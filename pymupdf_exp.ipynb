{
 "cells": [
  {
   "cell_type": "code",
   "execution_count": null,
   "metadata": {},
   "outputs": [],
   "source": [
    "pip install pymupdf"
   ]
  },
  {
   "cell_type": "code",
   "execution_count": 2,
   "metadata": {},
   "outputs": [
    {
     "name": "stdout",
     "output_type": "stream",
     "text": [
      "Collecting tabula-py\n",
      "  Using cached tabula_py-2.9.3-py3-none-any.whl.metadata (7.6 kB)\n",
      "Requirement already satisfied: pandas>=0.25.3 in ./.venv/lib/python3.9/site-packages (from tabula-py) (2.2.2)\n",
      "Requirement already satisfied: numpy in ./.venv/lib/python3.9/site-packages (from tabula-py) (2.0.1)\n",
      "Collecting distro (from tabula-py)\n",
      "  Using cached distro-1.9.0-py3-none-any.whl.metadata (6.8 kB)\n",
      "Requirement already satisfied: python-dateutil>=2.8.2 in ./.venv/lib/python3.9/site-packages (from pandas>=0.25.3->tabula-py) (2.9.0.post0)\n",
      "Requirement already satisfied: pytz>=2020.1 in ./.venv/lib/python3.9/site-packages (from pandas>=0.25.3->tabula-py) (2024.1)\n",
      "Requirement already satisfied: tzdata>=2022.7 in ./.venv/lib/python3.9/site-packages (from pandas>=0.25.3->tabula-py) (2024.1)\n",
      "Requirement already satisfied: six>=1.5 in ./.venv/lib/python3.9/site-packages (from python-dateutil>=2.8.2->pandas>=0.25.3->tabula-py) (1.16.0)\n",
      "Using cached tabula_py-2.9.3-py3-none-any.whl (12.0 MB)\n",
      "Using cached distro-1.9.0-py3-none-any.whl (20 kB)\n",
      "Installing collected packages: distro, tabula-py\n",
      "Successfully installed distro-1.9.0 tabula-py-2.9.3\n",
      "Note: you may need to restart the kernel to use updated packages.\n"
     ]
    }
   ],
   "source": [
    "pip install tabula-py"
   ]
  },
  {
   "cell_type": "code",
   "execution_count": null,
   "metadata": {},
   "outputs": [],
   "source": [
    "pip install cv"
   ]
  },
  {
   "cell_type": "code",
   "execution_count": 3,
   "metadata": {},
   "outputs": [
    {
     "name": "stdout",
     "output_type": "stream",
     "text": [
      "Requirement already satisfied: nest_asyncio in ./.venv/lib/python3.9/site-packages (1.6.0)\n",
      "Note: you may need to restart the kernel to use updated packages.\n"
     ]
    }
   ],
   "source": [
    "pip install nest_asyncio"
   ]
  },
  {
   "cell_type": "code",
   "execution_count": 1,
   "metadata": {},
   "outputs": [
    {
     "name": "stdout",
     "output_type": "stream",
     "text": [
      "Requirement already satisfied: camelot-py in ./.venv/lib/python3.9/site-packages (0.11.0)\n",
      "Requirement already satisfied: chardet>=3.0.4 in ./.venv/lib/python3.9/site-packages (from camelot-py) (5.2.0)\n",
      "Requirement already satisfied: click>=6.7 in ./.venv/lib/python3.9/site-packages (from camelot-py) (8.1.7)\n",
      "Requirement already satisfied: numpy>=1.13.3 in ./.venv/lib/python3.9/site-packages (from camelot-py) (2.0.1)\n",
      "Requirement already satisfied: openpyxl>=2.5.8 in ./.venv/lib/python3.9/site-packages (from camelot-py) (3.1.5)\n",
      "Requirement already satisfied: pandas>=0.23.4 in ./.venv/lib/python3.9/site-packages (from camelot-py) (2.2.2)\n",
      "Requirement already satisfied: pdfminer.six>=20200726 in ./.venv/lib/python3.9/site-packages (from camelot-py) (20240706)\n",
      "Requirement already satisfied: pypdf>=3.0.0 in ./.venv/lib/python3.9/site-packages (from camelot-py) (4.3.1)\n",
      "Requirement already satisfied: tabulate>=0.8.9 in ./.venv/lib/python3.9/site-packages (from camelot-py) (0.9.0)\n",
      "Requirement already satisfied: et-xmlfile in ./.venv/lib/python3.9/site-packages (from openpyxl>=2.5.8->camelot-py) (1.1.0)\n",
      "Requirement already satisfied: python-dateutil>=2.8.2 in ./.venv/lib/python3.9/site-packages (from pandas>=0.23.4->camelot-py) (2.9.0.post0)\n",
      "Requirement already satisfied: pytz>=2020.1 in ./.venv/lib/python3.9/site-packages (from pandas>=0.23.4->camelot-py) (2024.1)\n",
      "Requirement already satisfied: tzdata>=2022.7 in ./.venv/lib/python3.9/site-packages (from pandas>=0.23.4->camelot-py) (2024.1)\n",
      "Requirement already satisfied: charset-normalizer>=2.0.0 in ./.venv/lib/python3.9/site-packages (from pdfminer.six>=20200726->camelot-py) (3.3.2)\n",
      "Requirement already satisfied: cryptography>=36.0.0 in ./.venv/lib/python3.9/site-packages (from pdfminer.six>=20200726->camelot-py) (43.0.0)\n",
      "Requirement already satisfied: typing_extensions>=4.0 in ./.venv/lib/python3.9/site-packages (from pypdf>=3.0.0->camelot-py) (4.12.2)\n",
      "Requirement already satisfied: cffi>=1.12 in ./.venv/lib/python3.9/site-packages (from cryptography>=36.0.0->pdfminer.six>=20200726->camelot-py) (1.16.0)\n",
      "Requirement already satisfied: six>=1.5 in ./.venv/lib/python3.9/site-packages (from python-dateutil>=2.8.2->pandas>=0.23.4->camelot-py) (1.16.0)\n",
      "Requirement already satisfied: pycparser in ./.venv/lib/python3.9/site-packages (from cffi>=1.12->cryptography>=36.0.0->pdfminer.six>=20200726->camelot-py) (2.22)\n",
      "Note: you may need to restart the kernel to use updated packages.\n"
     ]
    }
   ],
   "source": [
    "pip install camelot-py"
   ]
  },
  {
   "cell_type": "code",
   "execution_count": null,
   "metadata": {},
   "outputs": [],
   "source": [
    "import fitz  \n",
    "pdf_document = \"/Users/kushagrawadhwa/Desktop/PDF_parsing phase-2/source_docs/handbook.pdf\"\n",
    "doc = fitz.open(pdf_document)\n",
    "\n",
    "for page in doc:\n",
    "    output = page.get_text(\"blocks\")\n",
    "    previous_block_id = 0 # Set a variable to mark the block id\n",
    "    for block in output:\n",
    "        if block[6] == 0: # We only take the text\n",
    "            if previous_block_id != block[5]:\n",
    "                # Compare the block number\n",
    "                print(\"\\n\")\n",
    "            print(block[4])"
   ]
  },
  {
   "cell_type": "code",
   "execution_count": null,
   "metadata": {},
   "outputs": [],
   "source": [
    "import fitz  \n",
    "import camelot\n",
    "\n",
    "\n",
    "pdf_document = \"/Users/kushagrawadhwa/Desktop/PDF_parsing phase-2/source_docs/handbook.pdf\"\n",
    "doc = fitz.open(pdf_document)\n",
    "\n",
    "extracted_text = \"\"\n",
    "\n",
    "for page_num in range(doc.page_count):\n",
    "    page = doc[page_num]\n",
    "    image_list=page.get_images(full=True)\n",
    "    if image_list:\n",
    "        print(f\"[+] Found a total of {len(image_list)} images in page {page_num + 1}\")\n",
    "        for image_index, img in enumerate(image_list, start=1):\n",
    "            xref = img[0]\n",
    "            base_image = doc.extract_image(xref)\n",
    "            image_bytes = base_image[\"image\"]\n",
    "            image_ext = base_image[\"ext\"]\n",
    "            extracted_text += page.get_text().replace('Deutsche Telekom Digital Labs Private Limited ',\"\").replace('Version Control: V.6.0, Released on 01-April-2024',\"\").replace('Document Author: Nihar Mathur ',\"\").replace('For Internal Circulation Only',\"\")\n",
    "    else:\n",
    "        print(\"[!] No images found on page\", page_num + 1)\n",
    "        extracted_text += page.get_text().replace('Deutsche Telekom Digital Labs Private Limited ',\"\").replace('Version Control: V.6.0, Released on 01-April-2024',\"\").replace('Document Author: Nihar Mathur ',\"\").replace('For Internal Circulation Only',\"\")\n",
    "doc.close()\n",
    "\n",
    "\n",
    "word_count = len(extracted_text.split())\n",
    "print(f\"The Extracted text is as follows:\\n{extracted_text}\")\n",
    "print(f\"Total words in the document: {word_count}\")"
   ]
  },
  {
   "cell_type": "code",
   "execution_count": null,
   "metadata": {},
   "outputs": [],
   "source": [
    "pip install pandas"
   ]
  },
  {
   "cell_type": "code",
   "execution_count": null,
   "metadata": {},
   "outputs": [],
   "source": [
    "import pandas as pd"
   ]
  },
  {
   "cell_type": "markdown",
   "metadata": {},
   "source": [
    "Text and table extraction using PyMUPDf"
   ]
  },
  {
   "cell_type": "code",
   "execution_count": null,
   "metadata": {},
   "outputs": [],
   "source": [
    "# import fitz  \n",
    "# import pandas as pd\n",
    "\n",
    "# def extract_tables_from_pdf(pdf_path):\n",
    "#     tables = camelot.read_pdf(pdf_path, pages='all')\n",
    "#     return tables\n",
    "# def table_to_markdown(df):\n",
    "#     return df.to_markdown(index=False)\n",
    "\n",
    "# pdf_document = \"/Users/kushagrawadhwa/Desktop/PDF_parsing phase-2/source_docs/handbook.pdf\"\n",
    "# doc = fitz.open(pdf_document)\n",
    "\n",
    "# extracted_text = \"\"\n",
    "\n",
    "# for page_num in range(doc.page_count):\n",
    "#     page = doc[page_num]\n",
    "    \n",
    "\n",
    "#     page_text = page.get_text()\n",
    "#     page_text = page_text.replace('Deutsche Telekom Digital Labs Private Limited ', \"\")\n",
    "#     page_text = page_text.replace('Version Control: V.6.0, Released on 01-April-2024', \"\")\n",
    "#     page_text = page_text.replace('Document Author: Nihar Mathur ', \"\")\n",
    "#     page_text = page_text.replace('For Internal Circulation Only', \"\")\n",
    "    \n",
    "\n",
    "#     table_finder = page.find_tables()\n",
    "#     tables = table_finder.tables\n",
    "#     if tables:\n",
    "#         print(f\"[+] Found {len(tables)} table(s) on page {page_num + 1}\")\n",
    "#         for table_index, table in enumerate(tables, start=1):\n",
    "#             df = table.to_pandas()\n",
    "#             table_metadata = f\"[Table {table_index} on page {page_num + 1}]\"\n",
    "#             page_text += \"\\n\" + table_metadata + \"\\n\" + df.to_string() + \"\\n\"\n",
    "#     else:\n",
    "#         print(f\"[!] No tables found on page {page_num + 1}\")\n",
    "\n",
    "#     image_list = page.get_images(full=True)\n",
    "#     if image_list:\n",
    "#         print(f\"[+] Found a total of {len(image_list)} images on page {page_num + 1}\")\n",
    "#         for image_index, img in enumerate(image_list, start=1):\n",
    "#             xref = img[0]\n",
    "#             base_image = doc.extract_image(xref)\n",
    "#             image_bytes = base_image[\"image\"]\n",
    "#             image_ext = base_image[\"ext\"]\n",
    "#             image_metadata = f\"[Image {image_index} on page {page_num + 1}: xref={xref}, ext={image_ext}]\"\n",
    "#             page_text += \"\\n\" + image_metadata + \"\\n\"\n",
    "#     else:\n",
    "#         print(f\"[!] No images found on page {page_num + 1}\")\n",
    "    \n",
    "#     extracted_text += page_text\n",
    "\n",
    "# doc.close()\n",
    "\n",
    "# word_count = len(extracted_text.split())\n",
    "# print(f\"The Extracted text is as follows:\\n{extracted_text}\")\n",
    "# print(f\"Total words in the document: {word_count}\")"
   ]
  },
  {
   "cell_type": "code",
   "execution_count": null,
   "metadata": {},
   "outputs": [],
   "source": [
    "pip install opencv-python-headless\n"
   ]
  },
  {
   "cell_type": "markdown",
   "metadata": {},
   "source": [
    "Text using PyMUPDF with integrated camelot for tables"
   ]
  },
  {
   "cell_type": "code",
   "execution_count": null,
   "metadata": {},
   "outputs": [],
   "source": [
    "import fitz  # PyMuPDF\n",
    "import pandas as pd\n",
    "import camelot\n",
    "import cv2\n",
    "import os\n",
    "\n",
    "def extract_tables_from_pdf(pdf_path, page_num):\n",
    "    tables = camelot.read_pdf(pdf_path, pages=str(page_num))\n",
    "    return tables\n",
    "\n",
    "def table_to_markdown(df):\n",
    "    return df.to_markdown(index=False)\n",
    "\n",
    "\n",
    "def save_image(image_bytes, image_ext, page_num, image_index, output_dir):\n",
    "    if not os.path.exists(output_dir):\n",
    "        os.makedirs(output_dir)\n",
    "    image_filename = f\"page_{page_num + 1}_image_{image_index}.{image_ext}\"\n",
    "    image_path = os.path.join(output_dir, image_filename)\n",
    "    with open(image_path, \"wb\") as image_file:\n",
    "        image_file.write(image_bytes)\n",
    "    return image_path\n",
    "\n",
    "pdf_document = \"/Users/kushagrawadhwa/Desktop/PDF_parsing phase-2/source_docs/handbook.pdf\"\n",
    "output_image_dir = \"./extracted_images\"\n",
    "doc = fitz.open(pdf_document)\n",
    "\n",
    "extracted_text = \"\"\n",
    "\n",
    "for page_num in range(doc.page_count):\n",
    "    page = doc[page_num]\n",
    "    \n",
    "    # Extract text from the page and perform replacements\n",
    "    page_text = page.get_text()\n",
    "    page_text = page_text.replace('Deutsche Telekom Digital Labs Private Limited ', \"\")\n",
    "    page_text = page_text.replace('Version Control: V.6.0, Released on 01-April-2024', \"\")\n",
    "    page_text = page_text.replace('Document Author: Nihar Mathur ', \"\")\n",
    "    page_text = page_text.replace('For Internal Circulation Only', \"\")\n",
    "    \n",
    "    # Extract and display tables using Camelot\n",
    "    tables = extract_tables_from_pdf(pdf_document, page_num + 1)\n",
    "    if tables:\n",
    "        print(f\"[+] Found {len(tables)} table(s) on page {page_num + 1}\")\n",
    "        for table_index, table in enumerate(tables, start=1):\n",
    "            df = table.df\n",
    "            table_metadata = f\"[Table {table_index} on page {page_num + 1}]\"\n",
    "            page_text += \"\\n\" + table_metadata + \"\\n\" + table_to_markdown(df) + \"\\n\"\n",
    "    else:\n",
    "        print(f\"[!] No tables found on page {page_num + 1}\")\n",
    "    \n",
    "    # Extract and display images\n",
    "    image_list = page.get_images(full=True)\n",
    "    if image_list:\n",
    "        print(f\"[+] Found a total of {len(image_list)} images on page {page_num + 1}\")\n",
    "        for image_index, img in enumerate(image_list, start=1):\n",
    "            xref = img[0]\n",
    "            base_image = doc.extract_image(xref)\n",
    "            image_bytes = base_image[\"image\"]\n",
    "            image_ext = base_image[\"ext\"]\n",
    "            image_path = save_image(image_bytes, image_ext, page_num, image_index, output_image_dir)\n",
    "            image_metadata = f\"[Image {image_index} on page {page_num + 1}: xref={xref}, ext={image_ext}]\"\n",
    "            page_text += \"\\n\" + image_metadata + \"\\n\"\n",
    "    else:\n",
    "        print(f\"[!] No images found on page {page_num + 1}\")\n",
    "    \n",
    "    extracted_text += page_text\n",
    "\n",
    "doc.close()\n",
    "\n",
    "word_count = len(extracted_text.split())\n",
    "print(f\"The Extracted text is as follows:\\n{extracted_text}\")\n",
    "print(f\"Total words in the document: {word_count}\")\n"
   ]
  },
  {
   "cell_type": "code",
   "execution_count": null,
   "metadata": {},
   "outputs": [],
   "source": [
    "import fitz  # PyMuPDF\n",
    "import pandas as pd\n",
    "import camelot\n",
    "import os\n",
    "\n",
    "def extract_tables_from_pdf(pdf_path, page_num):\n",
    "    tables = camelot.read_pdf(pdf_path, pages=str(page_num))\n",
    "    return tables\n",
    "\n",
    "def table_to_markdown(df):\n",
    "    return df.to_markdown(index=False)\n",
    "\n",
    "def save_image(image_bytes, image_ext, page_num, image_index, output_dir):\n",
    "    if not os.path.exists(output_dir):\n",
    "        os.makedirs(output_dir)\n",
    "    image_filename = f\"page_{page_num + 1}_image_{image_index}.{image_ext}\"\n",
    "    image_path = os.path.join(output_dir, image_filename)\n",
    "    with open(image_path, \"wb\") as image_file:\n",
    "        image_file.write(image_bytes)\n",
    "    return image_path\n",
    "\n",
    "def extract_text_block_wise(page):\n",
    "    output = page.get_text(\"blocks\")\n",
    "    previous_block_id = 0  # Set a variable to mark the block id\n",
    "    text = \"\"\n",
    "    for block in output:\n",
    "        if block[6] == 0:  # We only take the text\n",
    "            if previous_block_id != block[5]:\n",
    "                text += \"\\n\"\n",
    "            text += block[4]\n",
    "            previous_block_id = block[5]  # Update previous block id\n",
    "    return text\n",
    "\n",
    "pdf_document = \"/Users/kushagrawadhwa/Desktop/PDF_parsing phase-2/source_docs/handbook.pdf\"\n",
    "output_image_dir = \"./extracted_images\"\n",
    "doc = fitz.open(pdf_document)\n",
    "\n",
    "extracted_text = \"\"\n",
    "\n",
    "for page_num in range(doc.page_count):\n",
    "    page = doc[page_num]\n",
    "    \n",
    "    # Extract text block-wise and perform replacements\n",
    "    page_text = extract_text_block_wise(page)\n",
    "    page_text = page_text.replace('Deutsche Telekom Digital Labs Private Limited ', \"\")\n",
    "    page_text = page_text.replace('Version Control: V.6.0, Released on 01-April-2024', \"\")\n",
    "    page_text = page_text.replace('Document Author: Nihar Mathur ', \"\")\n",
    "    page_text = page_text.replace('For Internal Circulation Only', \"\")\n",
    "    \n",
    "    # Extract and display tables using Camelot\n",
    "    tables = extract_tables_from_pdf(pdf_document, page_num + 1)\n",
    "    if tables:\n",
    "        print(f\"[+] Found {len(tables)} table(s) on page {page_num + 1}\")\n",
    "        for table_index, table in enumerate(tables, start=1):\n",
    "            df = table.df\n",
    "            table_metadata = f\"[Table {table_index} on page {page_num + 1}]\"\n",
    "            page_text += \"\\n\" + table_metadata + \"\\n\" + table_to_markdown(df) + \"\\n\"\n",
    "    else:\n",
    "        print(f\"[!] No tables found on page {page_num + 1}\")\n",
    "    \n",
    "    # Extract and display images\n",
    "    image_list = page.get_images(full=True)\n",
    "    if image_list:\n",
    "        print(f\"[+] Found a total of {len(image_list)} images on page {page_num + 1}\")\n",
    "        for image_index, img in enumerate(image_list, start=1):\n",
    "            xref = img[0]\n",
    "            base_image = doc.extract_image(xref)\n",
    "            image_bytes = base_image[\"image\"]\n",
    "            image_ext = base_image[\"ext\"]\n",
    "            image_path = save_image(image_bytes, image_ext, page_num, image_index, output_image_dir)\n",
    "            image_metadata = f\"[Image {image_index} on page {page_num + 1}: xref={xref}, ext={image_ext}]\"\n",
    "            page_text += \"\\n\" + image_metadata + \"\\n\"\n",
    "    else:\n",
    "        print(f\"[!] No images found on page {page_num + 1}\")\n",
    "    \n",
    "    extracted_text += page_text\n",
    "\n",
    "doc.close()\n",
    "\n",
    "word_count = len(extracted_text.split())\n",
    "print(f\"The Extracted text is as follows:\\n{extracted_text}\")\n",
    "print(f\"Total words in the document: {word_count}\")"
   ]
  },
  {
   "cell_type": "markdown",
   "metadata": {},
   "source": [
    "**\n",
    "Add image content too below the image metadata\n",
    "Remove the duplicate reading of tables\n",
    "Tables in json format\n",
    "Check for multillingual parsing capability of the library"
   ]
  },
  {
   "cell_type": "code",
   "execution_count": null,
   "metadata": {},
   "outputs": [],
   "source": [
    "pip install pytesseract"
   ]
  }
 ],
 "metadata": {
  "kernelspec": {
   "display_name": ".venv",
   "language": "python",
   "name": "python3"
  },
  "language_info": {
   "codemirror_mode": {
    "name": "ipython",
    "version": 3
   },
   "file_extension": ".py",
   "mimetype": "text/x-python",
   "name": "python",
   "nbconvert_exporter": "python",
   "pygments_lexer": "ipython3",
   "version": "3.9.6"
  }
 },
 "nbformat": 4,
 "nbformat_minor": 2
}
