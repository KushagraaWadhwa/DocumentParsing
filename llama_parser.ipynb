{
 "cells": [
  {
   "cell_type": "markdown",
   "metadata": {},
   "source": [
    "Necessary imports and runs for Llama Parser"
   ]
  },
  {
   "cell_type": "code",
   "execution_count": 1,
   "metadata": {},
   "outputs": [
    {
     "name": "stdout",
     "output_type": "stream",
     "text": [
      "Requirement already satisfied: llama-parse in /Users/kushagrawadhwa/Desktop/PDF parser/.venv/lib/python3.9/site-packages (0.4.9)\n",
      "Requirement already satisfied: llama-index-core>=0.10.29 in /Users/kushagrawadhwa/Desktop/PDF parser/.venv/lib/python3.9/site-packages (from llama-parse) (0.10.55)\n",
      "Requirement already satisfied: PyYAML>=6.0.1 in /Users/kushagrawadhwa/Desktop/PDF parser/.venv/lib/python3.9/site-packages (from llama-index-core>=0.10.29->llama-parse) (6.0.1)\n",
      "Requirement already satisfied: SQLAlchemy>=1.4.49 in /Users/kushagrawadhwa/Desktop/PDF parser/.venv/lib/python3.9/site-packages (from SQLAlchemy[asyncio]>=1.4.49->llama-index-core>=0.10.29->llama-parse) (2.0.31)\n",
      "Requirement already satisfied: aiohttp<4.0.0,>=3.8.6 in /Users/kushagrawadhwa/Desktop/PDF parser/.venv/lib/python3.9/site-packages (from llama-index-core>=0.10.29->llama-parse) (3.9.5)\n",
      "Requirement already satisfied: dataclasses-json in /Users/kushagrawadhwa/Desktop/PDF parser/.venv/lib/python3.9/site-packages (from llama-index-core>=0.10.29->llama-parse) (0.6.7)\n",
      "Requirement already satisfied: deprecated>=1.2.9.3 in /Users/kushagrawadhwa/Desktop/PDF parser/.venv/lib/python3.9/site-packages (from llama-index-core>=0.10.29->llama-parse) (1.2.14)\n",
      "Requirement already satisfied: dirtyjson<2.0.0,>=1.0.8 in /Users/kushagrawadhwa/Desktop/PDF parser/.venv/lib/python3.9/site-packages (from llama-index-core>=0.10.29->llama-parse) (1.0.8)\n",
      "Requirement already satisfied: fsspec>=2023.5.0 in /Users/kushagrawadhwa/Desktop/PDF parser/.venv/lib/python3.9/site-packages (from llama-index-core>=0.10.29->llama-parse) (2024.6.1)\n",
      "Requirement already satisfied: httpx in /Users/kushagrawadhwa/Desktop/PDF parser/.venv/lib/python3.9/site-packages (from llama-index-core>=0.10.29->llama-parse) (0.27.0)\n",
      "Requirement already satisfied: nest-asyncio<2.0.0,>=1.5.8 in /Users/kushagrawadhwa/Desktop/PDF parser/.venv/lib/python3.9/site-packages (from llama-index-core>=0.10.29->llama-parse) (1.6.0)\n",
      "Requirement already satisfied: networkx>=3.0 in /Users/kushagrawadhwa/Desktop/PDF parser/.venv/lib/python3.9/site-packages (from llama-index-core>=0.10.29->llama-parse) (3.2.1)\n",
      "Requirement already satisfied: nltk<4.0.0,>=3.8.1 in /Users/kushagrawadhwa/Desktop/PDF parser/.venv/lib/python3.9/site-packages (from llama-index-core>=0.10.29->llama-parse) (3.8.1)\n",
      "Requirement already satisfied: numpy<2.0.0 in /Users/kushagrawadhwa/Desktop/PDF parser/.venv/lib/python3.9/site-packages (from llama-index-core>=0.10.29->llama-parse) (1.26.4)\n",
      "Requirement already satisfied: openai>=1.1.0 in /Users/kushagrawadhwa/Desktop/PDF parser/.venv/lib/python3.9/site-packages (from llama-index-core>=0.10.29->llama-parse) (1.35.14)\n",
      "Requirement already satisfied: pandas in /Users/kushagrawadhwa/Desktop/PDF parser/.venv/lib/python3.9/site-packages (from llama-index-core>=0.10.29->llama-parse) (2.2.2)\n",
      "Requirement already satisfied: pillow>=9.0.0 in /Users/kushagrawadhwa/Desktop/PDF parser/.venv/lib/python3.9/site-packages (from llama-index-core>=0.10.29->llama-parse) (10.4.0)\n",
      "Requirement already satisfied: requests>=2.31.0 in /Users/kushagrawadhwa/Desktop/PDF parser/.venv/lib/python3.9/site-packages (from llama-index-core>=0.10.29->llama-parse) (2.32.3)\n",
      "Requirement already satisfied: tenacity!=8.4.0,<9.0.0,>=8.2.0 in /Users/kushagrawadhwa/Desktop/PDF parser/.venv/lib/python3.9/site-packages (from llama-index-core>=0.10.29->llama-parse) (8.5.0)\n",
      "Requirement already satisfied: tiktoken>=0.3.3 in /Users/kushagrawadhwa/Desktop/PDF parser/.venv/lib/python3.9/site-packages (from llama-index-core>=0.10.29->llama-parse) (0.7.0)\n",
      "Requirement already satisfied: tqdm<5.0.0,>=4.66.1 in /Users/kushagrawadhwa/Desktop/PDF parser/.venv/lib/python3.9/site-packages (from llama-index-core>=0.10.29->llama-parse) (4.66.4)\n",
      "Requirement already satisfied: typing-extensions>=4.5.0 in /Users/kushagrawadhwa/Desktop/PDF parser/.venv/lib/python3.9/site-packages (from llama-index-core>=0.10.29->llama-parse) (4.12.2)\n",
      "Requirement already satisfied: typing-inspect>=0.8.0 in /Users/kushagrawadhwa/Desktop/PDF parser/.venv/lib/python3.9/site-packages (from llama-index-core>=0.10.29->llama-parse) (0.9.0)\n",
      "Requirement already satisfied: wrapt in /Users/kushagrawadhwa/Desktop/PDF parser/.venv/lib/python3.9/site-packages (from llama-index-core>=0.10.29->llama-parse) (1.16.0)\n",
      "Requirement already satisfied: aiosignal>=1.1.2 in /Users/kushagrawadhwa/Desktop/PDF parser/.venv/lib/python3.9/site-packages (from aiohttp<4.0.0,>=3.8.6->llama-index-core>=0.10.29->llama-parse) (1.3.1)\n",
      "Requirement already satisfied: attrs>=17.3.0 in /Users/kushagrawadhwa/Desktop/PDF parser/.venv/lib/python3.9/site-packages (from aiohttp<4.0.0,>=3.8.6->llama-index-core>=0.10.29->llama-parse) (23.2.0)\n",
      "Requirement already satisfied: frozenlist>=1.1.1 in /Users/kushagrawadhwa/Desktop/PDF parser/.venv/lib/python3.9/site-packages (from aiohttp<4.0.0,>=3.8.6->llama-index-core>=0.10.29->llama-parse) (1.4.1)\n",
      "Requirement already satisfied: multidict<7.0,>=4.5 in /Users/kushagrawadhwa/Desktop/PDF parser/.venv/lib/python3.9/site-packages (from aiohttp<4.0.0,>=3.8.6->llama-index-core>=0.10.29->llama-parse) (6.0.5)\n",
      "Requirement already satisfied: yarl<2.0,>=1.0 in /Users/kushagrawadhwa/Desktop/PDF parser/.venv/lib/python3.9/site-packages (from aiohttp<4.0.0,>=3.8.6->llama-index-core>=0.10.29->llama-parse) (1.9.4)\n",
      "Requirement already satisfied: async-timeout<5.0,>=4.0 in /Users/kushagrawadhwa/Desktop/PDF parser/.venv/lib/python3.9/site-packages (from aiohttp<4.0.0,>=3.8.6->llama-index-core>=0.10.29->llama-parse) (4.0.3)\n",
      "Requirement already satisfied: click in /Users/kushagrawadhwa/Desktop/PDF parser/.venv/lib/python3.9/site-packages (from nltk<4.0.0,>=3.8.1->llama-index-core>=0.10.29->llama-parse) (8.1.7)\n",
      "Requirement already satisfied: joblib in /Users/kushagrawadhwa/Desktop/PDF parser/.venv/lib/python3.9/site-packages (from nltk<4.0.0,>=3.8.1->llama-index-core>=0.10.29->llama-parse) (1.4.2)\n",
      "Requirement already satisfied: regex>=2021.8.3 in /Users/kushagrawadhwa/Desktop/PDF parser/.venv/lib/python3.9/site-packages (from nltk<4.0.0,>=3.8.1->llama-index-core>=0.10.29->llama-parse) (2024.5.15)\n",
      "Requirement already satisfied: anyio<5,>=3.5.0 in /Users/kushagrawadhwa/Desktop/PDF parser/.venv/lib/python3.9/site-packages (from openai>=1.1.0->llama-index-core>=0.10.29->llama-parse) (4.4.0)\n",
      "Requirement already satisfied: distro<2,>=1.7.0 in /Users/kushagrawadhwa/Desktop/PDF parser/.venv/lib/python3.9/site-packages (from openai>=1.1.0->llama-index-core>=0.10.29->llama-parse) (1.9.0)\n",
      "Requirement already satisfied: pydantic<3,>=1.9.0 in /Users/kushagrawadhwa/Desktop/PDF parser/.venv/lib/python3.9/site-packages (from openai>=1.1.0->llama-index-core>=0.10.29->llama-parse) (2.8.2)\n",
      "Requirement already satisfied: sniffio in /Users/kushagrawadhwa/Desktop/PDF parser/.venv/lib/python3.9/site-packages (from openai>=1.1.0->llama-index-core>=0.10.29->llama-parse) (1.3.1)\n",
      "Requirement already satisfied: certifi in /Users/kushagrawadhwa/Desktop/PDF parser/.venv/lib/python3.9/site-packages (from httpx->llama-index-core>=0.10.29->llama-parse) (2024.7.4)\n",
      "Requirement already satisfied: httpcore==1.* in /Users/kushagrawadhwa/Desktop/PDF parser/.venv/lib/python3.9/site-packages (from httpx->llama-index-core>=0.10.29->llama-parse) (1.0.5)\n",
      "Requirement already satisfied: idna in /Users/kushagrawadhwa/Desktop/PDF parser/.venv/lib/python3.9/site-packages (from httpx->llama-index-core>=0.10.29->llama-parse) (3.7)\n",
      "Requirement already satisfied: h11<0.15,>=0.13 in /Users/kushagrawadhwa/Desktop/PDF parser/.venv/lib/python3.9/site-packages (from httpcore==1.*->httpx->llama-index-core>=0.10.29->llama-parse) (0.14.0)\n",
      "Requirement already satisfied: charset-normalizer<4,>=2 in /Users/kushagrawadhwa/Desktop/PDF parser/.venv/lib/python3.9/site-packages (from requests>=2.31.0->llama-index-core>=0.10.29->llama-parse) (3.3.2)\n",
      "Requirement already satisfied: urllib3<3,>=1.21.1 in /Users/kushagrawadhwa/Desktop/PDF parser/.venv/lib/python3.9/site-packages (from requests>=2.31.0->llama-index-core>=0.10.29->llama-parse) (2.2.2)\n",
      "Requirement already satisfied: greenlet!=0.4.17 in /Users/kushagrawadhwa/Desktop/PDF parser/.venv/lib/python3.9/site-packages (from SQLAlchemy>=1.4.49->SQLAlchemy[asyncio]>=1.4.49->llama-index-core>=0.10.29->llama-parse) (3.0.3)\n",
      "Requirement already satisfied: mypy-extensions>=0.3.0 in /Users/kushagrawadhwa/Desktop/PDF parser/.venv/lib/python3.9/site-packages (from typing-inspect>=0.8.0->llama-index-core>=0.10.29->llama-parse) (1.0.0)\n",
      "Requirement already satisfied: marshmallow<4.0.0,>=3.18.0 in /Users/kushagrawadhwa/Desktop/PDF parser/.venv/lib/python3.9/site-packages (from dataclasses-json->llama-index-core>=0.10.29->llama-parse) (3.21.3)\n",
      "Requirement already satisfied: python-dateutil>=2.8.2 in /Users/kushagrawadhwa/Desktop/PDF parser/.venv/lib/python3.9/site-packages (from pandas->llama-index-core>=0.10.29->llama-parse) (2.9.0.post0)\n",
      "Requirement already satisfied: pytz>=2020.1 in /Users/kushagrawadhwa/Desktop/PDF parser/.venv/lib/python3.9/site-packages (from pandas->llama-index-core>=0.10.29->llama-parse) (2024.1)\n",
      "Requirement already satisfied: tzdata>=2022.7 in /Users/kushagrawadhwa/Desktop/PDF parser/.venv/lib/python3.9/site-packages (from pandas->llama-index-core>=0.10.29->llama-parse) (2024.1)\n",
      "Requirement already satisfied: exceptiongroup>=1.0.2 in /Users/kushagrawadhwa/Desktop/PDF parser/.venv/lib/python3.9/site-packages (from anyio<5,>=3.5.0->openai>=1.1.0->llama-index-core>=0.10.29->llama-parse) (1.2.2)\n",
      "Requirement already satisfied: packaging>=17.0 in /Users/kushagrawadhwa/Desktop/PDF parser/.venv/lib/python3.9/site-packages (from marshmallow<4.0.0,>=3.18.0->dataclasses-json->llama-index-core>=0.10.29->llama-parse) (24.1)\n",
      "Requirement already satisfied: annotated-types>=0.4.0 in /Users/kushagrawadhwa/Desktop/PDF parser/.venv/lib/python3.9/site-packages (from pydantic<3,>=1.9.0->openai>=1.1.0->llama-index-core>=0.10.29->llama-parse) (0.7.0)\n",
      "Requirement already satisfied: pydantic-core==2.20.1 in /Users/kushagrawadhwa/Desktop/PDF parser/.venv/lib/python3.9/site-packages (from pydantic<3,>=1.9.0->openai>=1.1.0->llama-index-core>=0.10.29->llama-parse) (2.20.1)\n",
      "Requirement already satisfied: six>=1.5 in /Users/kushagrawadhwa/Desktop/PDF parser/.venv/lib/python3.9/site-packages (from python-dateutil>=2.8.2->pandas->llama-index-core>=0.10.29->llama-parse) (1.16.0)\n",
      "\n",
      "\u001b[1m[\u001b[0m\u001b[34;49mnotice\u001b[0m\u001b[1;39;49m]\u001b[0m\u001b[39;49m A new release of pip is available: \u001b[0m\u001b[31;49m24.1.1\u001b[0m\u001b[39;49m -> \u001b[0m\u001b[32;49m24.1.2\u001b[0m\n",
      "\u001b[1m[\u001b[0m\u001b[34;49mnotice\u001b[0m\u001b[1;39;49m]\u001b[0m\u001b[39;49m To update, run: \u001b[0m\u001b[32;49mpip install --upgrade pip\u001b[0m\n",
      "Note: you may need to restart the kernel to use updated packages.\n"
     ]
    }
   ],
   "source": [
    "pip install llama-parse"
   ]
  },
  {
   "cell_type": "code",
   "execution_count": 2,
   "metadata": {},
   "outputs": [],
   "source": [
    "import nest_asyncio\n",
    "nest_asyncio.apply()"
   ]
  },
  {
   "cell_type": "code",
   "execution_count": 3,
   "metadata": {},
   "outputs": [],
   "source": [
    "import os\n",
    "os.environ[\"LLAMA_CLOUD_API_KEY\"] = \"llx-ICc6k9ChF7p39xAuuJV32iLBpDQxNeGNuEONapI6lkysFN0T\""
   ]
  },
  {
   "cell_type": "code",
   "execution_count": 5,
   "metadata": {},
   "outputs": [
    {
     "name": "stderr",
     "output_type": "stream",
     "text": [
      "/Users/kushagrawadhwa/Desktop/PDF parser/.venv/lib/python3.9/site-packages/urllib3/__init__.py:35: NotOpenSSLWarning: urllib3 v2 only supports OpenSSL 1.1.1+, currently the 'ssl' module is compiled with 'LibreSSL 2.8.3'. See: https://github.com/urllib3/urllib3/issues/3020\n",
      "  warnings.warn(\n"
     ]
    },
    {
     "name": "stdout",
     "output_type": "stream",
     "text": [
      "Started parsing the file under job_id 808986dc-7e4a-4698-baf5-c6cc5ce0b355\n"
     ]
    }
   ],
   "source": [
    "from llama_parse import LlamaParse\n",
    "documents = LlamaParse(result_type=\"markdown\").load_data(\"/Users/kushagrawadhwa/Desktop/PDF parser/source_docs/policy1.pdf\")"
   ]
  },
  {
   "cell_type": "code",
   "execution_count": 9,
   "metadata": {},
   "outputs": [
    {
     "data": {
      "text/plain": [
       "2"
      ]
     },
     "execution_count": 9,
     "metadata": {},
     "output_type": "execute_result"
    }
   ],
   "source": [
    "len(documents)"
   ]
  },
  {
   "cell_type": "code",
   "execution_count": 14,
   "metadata": {},
   "outputs": [
    {
     "name": "stdout",
     "output_type": "stream",
     "text": [
      "Started parsing the file under job_id a492c449-e026-4b18-809e-6115507af26c\n",
      "..Parsed content has been saved to: /Users/kushagrawadhwa/Desktop/PDF parser/llama_parser/handbook_llama_parser.txt\n"
     ]
    }
   ],
   "source": [
    "from llama_parse import LlamaParse\n",
    "import os\n",
    "\n",
    "documents = LlamaParse(result_type=\"markdown\").load_data(\"/Users/kushagrawadhwa/Desktop/PDF parser/source_docs/handbook.pdf\")\n",
    "output_file = \"/Users/kushagrawadhwa/Desktop/PDF parser/llama_parser/handbook_llama_parser.txt\"\n",
    "os.makedirs(os.path.dirname(output_file), exist_ok=True)\n",
    "\n",
    "with open(output_file, 'w', encoding='utf-8') as f:\n",
    "    for doc in range(len(documents)):\n",
    "        f.write(documents[doc].text) \n",
    "\n",
    "print(f\"Parsed content has been saved to: {output_file}\")"
   ]
  },
  {
   "cell_type": "markdown",
   "metadata": {},
   "source": [
    "Loading Llama in \"json\" mode(Gives details about metadata)"
   ]
  },
  {
   "cell_type": "code",
   "execution_count": 8,
   "metadata": {},
   "outputs": [
    {
     "name": "stdout",
     "output_type": "stream",
     "text": [
      "Started parsing the file under job_id 63cef983-ce72-49c8-8954-005f6936c130\n"
     ]
    }
   ],
   "source": [
    "from llama_parse import LlamaParse\n",
    "parser = LlamaParse(verbose=True)\n",
    "json_objs = parser.get_json_result(\"/Users/kushagrawadhwa/Desktop/PDF parser/source_docs/policy1.pdf\")\n",
    "json_list = json_objs[0][\"pages\"]"
   ]
  },
  {
   "cell_type": "code",
   "execution_count": 9,
   "metadata": {},
   "outputs": [
    {
     "data": {
      "text/plain": [
       "[{'page': 1,\n",
       "  'text': '                                                                                                                           LIFE IS FOR SHARING\\n                    ‘Live Your Potential’                           |    Internal Mobility                     Guidelines\\n\\n                   Purpose\\n                   The purpose of these guidelines is to ensure that all employees are made aware of and have\\n                   the opportunity to apply for open positions within the organization, in parallel to the\\n                   external talent pool being evaluated.\\n\\n                   These guidelines play a key role in offering career development to employees with the\\n                   objective to upgrade skills by offering multi-functional opportunities for professional\\n                   development and growth. This also encourages employees to:\\n\\n                            •    Identify area of interests beyond their current roles and pursue their career\\n                                 anchors\\n                            •    Have an ability to steer their career in the direction they want\\n                            •    Attain diverse skill sets\\n\\n                   Scope\\n                   These guidelines applies to all full time employees who meet the requisite conditions.\\n\\n                   Employee Eligibility\\n                   In order to be eligible for a movements to another team within DT Digital Labs or any group\\n                   company, the employee must meet the following criteria:\\n\\n                       •    Should have completed minimum 12 months or more in the current team/role with\\n                            DT Digital Labs or any group company.\\n                       •    Should have an actual rating of MEE or above in the last performance appraisal cycle\\n                       •    No adverse disciplinary reprimands or warnings or performance issues during the\\n                            above said period\\n                       •    Should possess basic qualifications required for the given position\\n\\n                   Process & Approvals\\n                        •   An email announcing the available open positions will be sent out to all employees in\\n                            the Company, as and when an opportunity arises. Each job posting will contain the\\n                            following information:\\n\\n\\n\\n\\n\\nVersion Control: 1.0, Released on 1-Feb-21\\n              For Internal Circulation Only\\n             o    Eligibility\\n             o    Job Title\\n             o    Level\\n             o    Team\\nDeutsche Telekom Digital Labs Pvt. Ltd\\nDocument Author: People Team',\n",
       "  'md': \"# 'Live Your Potential' | Internal Mobility Guidelines\\n\\nPurpose\\n\\nThe purpose of these guidelines is to ensure that all employees are made aware of and have the opportunity to apply for open positions within the organization, in parallel to the external talent pool being evaluated.\\n\\nThese guidelines play a key role in offering career development to employees with the objective to upgrade skills by offering multi-functional opportunities for professional development and growth. This also encourages employees to:\\n\\n- Identify area of interests beyond their current roles and pursue their career anchors\\n- Have an ability to steer their career in the direction they want\\n- Attain diverse skill sets\\n\\nScope\\n\\nThese guidelines apply to all full-time employees who meet the requisite conditions.\\n\\nEmployee Eligibility\\n\\nIn order to be eligible for a movement to another team within DT Digital Labs or any group company, the employee must meet the following criteria:\\n\\n- Should have completed a minimum of 12 months or more in the current team/role with DT Digital Labs or any group company.\\n- Should have an actual rating of MEE or above in the last performance appraisal cycle\\n- No adverse disciplinary reprimands or warnings or performance issues during the above said period\\n- Should possess basic qualifications required for the given position\\n\\nProcess & Approvals\\n\\n- An email announcing the available open positions will be sent out to all employees in the Company, as and when an opportunity arises. Each job posting will contain the following information:\\n\\nEligibility\\nJob Title\\nLevel\\nTeam\\n\\nVersion Control: 1.0, Released on 1-Feb-21\\n\\nFor Internal Circulation Only\\n\\nDeutsche Telekom Digital Labs Pvt. Ltd\\n\\nDocument Author: People Team\",\n",
       "  'images': [{'name': 'img_p0_1.png',\n",
       "    'height': 43,\n",
       "    'width': 832,\n",
       "    'x': 73.173,\n",
       "    'y': 36.57291,\n",
       "    'original_width': 976,\n",
       "    'original_height': 50}],\n",
       "  'items': [{'type': 'heading',\n",
       "    'lvl': 1,\n",
       "    'value': \"'Live Your Potential' | Internal Mobility Guidelines\",\n",
       "    'md': \"# 'Live Your Potential' | Internal Mobility Guidelines\",\n",
       "    'bBox': {'x': 258, 'y': 121, 'w': 138.61440000000005, 'h': 18}},\n",
       "   {'type': 'text',\n",
       "    'value': 'Purpose\\n\\nThe purpose of these guidelines is to ensure that all employees are made aware of and have the opportunity to apply for open positions within the organization, in parallel to the external talent pool being evaluated.\\n\\nThese guidelines play a key role in offering career development to employees with the objective to upgrade skills by offering multi-functional opportunities for professional development and growth. This also encourages employees to:\\n\\n- Identify area of interests beyond their current roles and pursue their career anchors\\n- Have an ability to steer their career in the direction they want\\n- Attain diverse skill sets\\n\\nScope\\n\\nThese guidelines apply to all full-time employees who meet the requisite conditions.\\n\\nEmployee Eligibility\\n\\nIn order to be eligible for a movement to another team within DT Digital Labs or any group company, the employee must meet the following criteria:\\n\\n- Should have completed a minimum of 12 months or more in the current team/role with DT Digital Labs or any group company.\\n- Should have an actual rating of MEE or above in the last performance appraisal cycle\\n- No adverse disciplinary reprimands or warnings or performance issues during the above said period\\n- Should possess basic qualifications required for the given position\\n\\nProcess & Approvals\\n\\n- An email announcing the available open positions will be sent out to all employees in the Company, as and when an opportunity arises. Each job posting will contain the following information:\\n\\nEligibility\\nJob Title\\nLevel\\nTeam\\n\\nVersion Control: 1.0, Released on 1-Feb-21\\n\\nFor Internal Circulation Only\\n\\nDeutsche Telekom Digital Labs Pvt. Ltd\\n\\nDocument Author: People Team',\n",
       "    'md': 'Purpose\\n\\nThe purpose of these guidelines is to ensure that all employees are made aware of and have the opportunity to apply for open positions within the organization, in parallel to the external talent pool being evaluated.\\n\\nThese guidelines play a key role in offering career development to employees with the objective to upgrade skills by offering multi-functional opportunities for professional development and growth. This also encourages employees to:\\n\\n- Identify area of interests beyond their current roles and pursue their career anchors\\n- Have an ability to steer their career in the direction they want\\n- Attain diverse skill sets\\n\\nScope\\n\\nThese guidelines apply to all full-time employees who meet the requisite conditions.\\n\\nEmployee Eligibility\\n\\nIn order to be eligible for a movement to another team within DT Digital Labs or any group company, the employee must meet the following criteria:\\n\\n- Should have completed a minimum of 12 months or more in the current team/role with DT Digital Labs or any group company.\\n- Should have an actual rating of MEE or above in the last performance appraisal cycle\\n- No adverse disciplinary reprimands or warnings or performance issues during the above said period\\n- Should possess basic qualifications required for the given position\\n\\nProcess & Approvals\\n\\n- An email announcing the available open positions will be sent out to all employees in the Company, as and when an opportunity arises. Each job posting will contain the following information:\\n\\nEligibility\\nJob Title\\nLevel\\nTeam\\n\\nVersion Control: 1.0, Released on 1-Feb-21\\n\\nFor Internal Circulation Only\\n\\nDeutsche Telekom Digital Labs Pvt. Ltd\\n\\nDocument Author: People Team',\n",
       "    'bBox': {'x': 72, 'y': 121, 'w': 448.96400000000017, 'h': 18}}]},\n",
       " {'page': 2,\n",
       "  'text': '               o    Tech Stack\\n               o    Role & Responsibilities\\n               o    Instructions on how to apply and deadline\\n               o    Equal employment opportunity (EEO) statement.\\n\\n     •    Each job may be posted internally for 7 days before it’s posted externally.\\n\\n               o    If a position has to be filled quickly, the People Team may post a job both\\n                    internally and externally and assess candidates from both sources\\n                    simultaneously.\\n               o    Internal candidates will be given preference over external candidates when\\n                    possible.\\n\\n     •    Eligible employees who wish to apply for the posted position are advised to send an\\n          e-mail with their resume, to the respective People Partner. No application will be\\n          considered after the mentioned deadline.\\n     •    An eligible employee can apply for positions senior to their current level & selection\\n          for the role will be based on merit & competence.\\n     •    The People Team will screen the applications as per the defined criteria & notify the\\n          employee within one week of receiving application, if the employee does not meet\\n          the requirements.\\n     •    Shortlisted candidates shall be interviewed by People Team and the Hiring Manager.\\n          Post completion of the entire assessment process, the employee will be intimated\\n          about the decision within 7 working days.\\n     •    All candidates interviewed will be notified of selection on the job by their People\\n          Partner. Employees can choose to accept or decline offers without repercussions in\\n          their current positions If an employee declines an offer, their decision will not affect\\n          their current role. If they accept an offer, they should meet with their managers to\\n          discuss a movement to the new position.\\n     •    An eligible employee can apply for positions senior to their current level & selection\\n          will be based on merit & competence showcased.\\n     •    An employee’s transfer may be delayed until their current position is filled or 60\\n          days, whichever is earlier.\\n     •    Any application for an international transfer will be based on the local company\\n          guidelines.\\n\\nExceptions – Any exceptions or deviations to these guidelines to be approved by the\\nManagement.\\n\\n  Deutsche Telekom Digital Labs Pvt. Ltd                                         Version Control: 1.0, Released on 1-Feb-21\\n  Document Author: People Team                                                                  For Internal Circulation Only',\n",
       "  'md': '# Tech Stack\\n\\n# Role & Responsibilities\\n\\n# Instructions on how to apply and deadline\\n\\n# Equal employment opportunity (EEO) statement\\n\\nEach job may be posted internally for 7 days before it’s posted externally.\\n\\n- If a position has to be filled quickly, the People Team may post a job both internally and externally and assess candidates from both sources simultaneously.\\n- Internal candidates will be given preference over external candidates when possible.\\n\\nEligible employees who wish to apply for the posted position are advised to send an e-mail with their resume, to the respective People Partner. No application will be considered after the mentioned deadline.\\n\\nAn eligible employee can apply for positions senior to their current level & selection for the role will be based on merit & competence.\\n\\nThe People Team will screen the applications as per the defined criteria & notify the employee within one week of receiving application, if the employee does not meet the requirements.\\n\\nShortlisted candidates shall be interviewed by People Team and the Hiring Manager. Post completion of the entire assessment process, the employee will be intimated about the decision within 7 working days.\\n\\nAll candidates interviewed will be notified of selection on the job by their People Partner. Employees can choose to accept or decline offers without repercussions in their current positions If an employee declines an offer, their decision will not affect their current role. If they accept an offer, they should meet with their managers to discuss a movement to the new position.\\n\\nAn eligible employee can apply for positions senior to their current level & selection will be based on merit & competence showcased.\\n\\nAn employee’s transfer may be delayed until their current position is filled or 60 days, whichever is earlier.\\n\\nAny application for an international transfer will be based on the local company guidelines.\\n\\nExceptions – Any exceptions or deviations to these guidelines to be approved by the Management.\\n\\nDeutsche Telekom Digital Labs Pvt. Ltd Version Control: 1.0, Released on 1-Feb-21 Document Author: People Team For Internal Circulation Only',\n",
       "  'images': [],\n",
       "  'items': [{'type': 'heading',\n",
       "    'lvl': 1,\n",
       "    'value': 'Tech Stack',\n",
       "    'md': '# Tech Stack',\n",
       "    'bBox': {'x': 144, 'y': 84, 'w': 51.72839999999992, 'h': 12}},\n",
       "   {'type': 'heading',\n",
       "    'lvl': 1,\n",
       "    'value': 'Role & Responsibilities',\n",
       "    'md': '# Role & Responsibilities',\n",
       "    'bBox': {'x': 144, 'y': 99, 'w': 110.7491999999999, 'h': 12}},\n",
       "   {'type': 'heading',\n",
       "    'lvl': 1,\n",
       "    'value': 'Instructions on how to apply and deadline',\n",
       "    'md': '# Instructions on how to apply and deadline',\n",
       "    'bBox': {'x': 126, 'y': 84, 'w': 205.1916, 'h': 12}},\n",
       "   {'type': 'heading',\n",
       "    'lvl': 1,\n",
       "    'value': 'Equal employment opportunity (EEO) statement',\n",
       "    'md': '# Equal employment opportunity (EEO) statement',\n",
       "    'bBox': {'x': 0, 'y': 0, 'w': 595}},\n",
       "   {'type': 'text',\n",
       "    'value': 'Each job may be posted internally for 7 days before it’s posted externally.\\n\\n- If a position has to be filled quickly, the People Team may post a job both internally and externally and assess candidates from both sources simultaneously.\\n- Internal candidates will be given preference over external candidates when possible.\\n\\nEligible employees who wish to apply for the posted position are advised to send an e-mail with their resume, to the respective People Partner. No application will be considered after the mentioned deadline.\\n\\nAn eligible employee can apply for positions senior to their current level & selection for the role will be based on merit & competence.\\n\\nThe People Team will screen the applications as per the defined criteria & notify the employee within one week of receiving application, if the employee does not meet the requirements.\\n\\nShortlisted candidates shall be interviewed by People Team and the Hiring Manager. Post completion of the entire assessment process, the employee will be intimated about the decision within 7 working days.\\n\\nAll candidates interviewed will be notified of selection on the job by their People Partner. Employees can choose to accept or decline offers without repercussions in their current positions If an employee declines an offer, their decision will not affect their current role. If they accept an offer, they should meet with their managers to discuss a movement to the new position.\\n\\nAn eligible employee can apply for positions senior to their current level & selection will be based on merit & competence showcased.\\n\\nAn employee’s transfer may be delayed until their current position is filled or 60 days, whichever is earlier.\\n\\nAny application for an international transfer will be based on the local company guidelines.\\n\\nExceptions – Any exceptions or deviations to these guidelines to be approved by the Management.\\n\\nDeutsche Telekom Digital Labs Pvt. Ltd Version Control: 1.0, Released on 1-Feb-21 Document Author: People Team For Internal Circulation Only',\n",
       "    'md': 'Each job may be posted internally for 7 days before it’s posted externally.\\n\\n- If a position has to be filled quickly, the People Team may post a job both internally and externally and assess candidates from both sources simultaneously.\\n- Internal candidates will be given preference over external candidates when possible.\\n\\nEligible employees who wish to apply for the posted position are advised to send an e-mail with their resume, to the respective People Partner. No application will be considered after the mentioned deadline.\\n\\nAn eligible employee can apply for positions senior to their current level & selection for the role will be based on merit & competence.\\n\\nThe People Team will screen the applications as per the defined criteria & notify the employee within one week of receiving application, if the employee does not meet the requirements.\\n\\nShortlisted candidates shall be interviewed by People Team and the Hiring Manager. Post completion of the entire assessment process, the employee will be intimated about the decision within 7 working days.\\n\\nAll candidates interviewed will be notified of selection on the job by their People Partner. Employees can choose to accept or decline offers without repercussions in their current positions If an employee declines an offer, their decision will not affect their current role. If they accept an offer, they should meet with their managers to discuss a movement to the new position.\\n\\nAn eligible employee can apply for positions senior to their current level & selection will be based on merit & competence showcased.\\n\\nAn employee’s transfer may be delayed until their current position is filled or 60 days, whichever is earlier.\\n\\nAny application for an international transfer will be based on the local company guidelines.\\n\\nExceptions – Any exceptions or deviations to these guidelines to be approved by the Management.\\n\\nDeutsche Telekom Digital Labs Pvt. Ltd Version Control: 1.0, Released on 1-Feb-21 Document Author: People Team For Internal Circulation Only',\n",
       "    'bBox': {'x': 72, 'y': 84, 'w': 447.4559999999999, 'h': 12}}]}]"
      ]
     },
     "execution_count": 9,
     "metadata": {},
     "output_type": "execute_result"
    }
   ],
   "source": [
    "json_list"
   ]
  },
  {
   "cell_type": "code",
   "execution_count": null,
   "metadata": {},
   "outputs": [],
   "source": [
    "# try:\n",
    "#     for page in json_list:\n",
    "#         print(f\"Page {page['page']}:\")\n",
    "#         print(\"Text:\", page.get(\"text\", \"\"))\n",
    "#         print(\"Markdown:\", page.get(\"md\", \"\"))\n",
    "#         print(\"Images:\", page.get(\"images\", []))\n",
    "#         print(\"Items:\", page.get(\"items\", []))\n",
    "# except Exception as e:\n",
    "#     print(f\"Error parsing PDF: {e}\")"
   ]
  },
  {
   "cell_type": "code",
   "execution_count": null,
   "metadata": {},
   "outputs": [],
   "source": [
    "# import json\n",
    "# with open(\"policy1_llama_parser1.json\", \"a\") as json_file:\n",
    "#     json.dump(json_list, json_file, indent=4)\n"
   ]
  },
  {
   "cell_type": "markdown",
   "metadata": {},
   "source": [
    "LlamaParser final markdown"
   ]
  },
  {
   "cell_type": "code",
   "execution_count": 10,
   "metadata": {},
   "outputs": [
    {
     "ename": "AttributeError",
     "evalue": "'dict' object has no attribute 'text'",
     "output_type": "error",
     "traceback": [
      "\u001b[0;31m---------------------------------------------------------------------------\u001b[0m",
      "\u001b[0;31mAttributeError\u001b[0m                            Traceback (most recent call last)",
      "Cell \u001b[0;32mIn[10], line 3\u001b[0m\n\u001b[1;32m      1\u001b[0m markdown_text\u001b[38;5;241m=\u001b[39m\u001b[38;5;124m\"\u001b[39m\u001b[38;5;124m \u001b[39m\u001b[38;5;124m\"\u001b[39m\n\u001b[1;32m      2\u001b[0m \u001b[38;5;28;01mfor\u001b[39;00m i \u001b[38;5;129;01min\u001b[39;00m \u001b[38;5;28mrange\u001b[39m(\u001b[38;5;28mlen\u001b[39m(json_objs)):\n\u001b[0;32m----> 3\u001b[0m     markdown_text\u001b[38;5;241m+\u001b[39m\u001b[38;5;241m=\u001b[39m\u001b[43mjson_objs\u001b[49m\u001b[43m[\u001b[49m\u001b[43mi\u001b[49m\u001b[43m]\u001b[49m\u001b[38;5;241;43m.\u001b[39;49m\u001b[43mtext\u001b[49m\u001b[38;5;241m+\u001b[39m\u001b[38;5;124m'\u001b[39m\u001b[38;5;130;01m\\n\u001b[39;00m\u001b[38;5;124m'\u001b[39m\n",
      "\u001b[0;31mAttributeError\u001b[0m: 'dict' object has no attribute 'text'"
     ]
    }
   ],
   "source": [
    "markdown_text=\" \"\n",
    "for i in range(len(json_objs)):\n",
    "    markdown_text+=json_objs[i].text+'\\n'"
   ]
  },
  {
   "cell_type": "code",
   "execution_count": null,
   "metadata": {},
   "outputs": [],
   "source": [
    "import json\n",
    "import re\n",
    "from llama_parse import LlamaParse\n",
    "\n",
    "\n",
    "def parse_markdown_to_dict(markdown_text):\n",
    "    lines = markdown_text.split('\\n')\n",
    "    result = {}\n",
    "    current_key = None\n",
    "    current_content = []\n",
    "    metadata_pattern = re.compile(r'^(Version Control:|Document Author:|For Internal Circulation Only|Released on)')\n",
    "\n",
    "    for line in lines:\n",
    "        if line.startswith('#'):\n",
    "            if current_key:\n",
    "                result[current_key] = '\\n'.join(current_content).strip()\n",
    "            current_key = line.strip('# ')\n",
    "            current_content = []\n",
    "        elif not metadata_pattern.match(line) and not line.strip().startswith('Deutsche Telekom'):\n",
    "            current_content.append(line)\n",
    "\n",
    "    if current_key:\n",
    "        result[current_key] = '\\n'.join(current_content).strip()\n",
    "\n",
    "    return result\n",
    "\n",
    "documents = LlamaParse(result_type=\"markdown\",do_not_unroll_columns=True,parsing_instruction=\"This is a company policy document. I want accurate and exact details about each heading or subheading, do not generate content on your own.\").load_data(\"/Users/kushagrawadhwa/Desktop/PDF parser/source_docs/policy2.pdf\") # change of parsing instructions\n",
    "\n",
    "markdown_text=\" \"\n",
    "for i in range(len(documents)):\n",
    "    markdown_text+=documents[i].text+'\\n'\n",
    "def save_to_json(data, filename):\n",
    "    with open(filename, 'w', encoding='utf-8') as f:\n",
    "        json.dump(data, f, ensure_ascii=False, indent=2)\n",
    "\n",
    "parsed_dict = parse_markdown_to_dict(markdown_text)\n",
    "save_to_json(parsed_dict, 'output_policy2.1.json')\n",
    "\n",
    "print(\"JSON file created successfully.\")"
   ]
  }
 ],
 "metadata": {
  "kernelspec": {
   "display_name": ".venv",
   "language": "python",
   "name": "python3"
  },
  "language_info": {
   "codemirror_mode": {
    "name": "ipython",
    "version": 3
   },
   "file_extension": ".py",
   "mimetype": "text/x-python",
   "name": "python",
   "nbconvert_exporter": "python",
   "pygments_lexer": "ipython3",
   "version": "3.9.6"
  }
 },
 "nbformat": 4,
 "nbformat_minor": 2
}
